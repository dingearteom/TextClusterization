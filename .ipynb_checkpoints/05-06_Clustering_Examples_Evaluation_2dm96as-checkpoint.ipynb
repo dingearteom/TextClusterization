{
 "cells": [
  {
   "cell_type": "markdown",
   "metadata": {},
   "source": [
    "## Unsupervised learning: clustering\n",
    "\n",
    "Поговорим о кластеризации -- разные методы на простых примерах и парочка приложений"
   ]
  },
  {
   "cell_type": "code",
   "execution_count": 1,
   "metadata": {},
   "outputs": [],
   "source": [
    "%matplotlib inline\n",
    "import pandas as pd\n",
    "import numpy as np\n",
    "from matplotlib import pyplot as plt"
   ]
  },
  {
   "cell_type": "code",
   "execution_count": 2,
   "metadata": {},
   "outputs": [
    {
     "data": {
      "text/plain": [
       "(array([1, 1, 1, 1, 1, 1, 1, 1, 1, 1, 1, 1, 1, 1, 1, 1, 1, 1, 1, 1, 1, 1,\n",
       "        1, 1, 1, 1, 1, 1, 1, 1, 1, 1, 1, 1, 1, 1, 1, 1, 1, 1, 1, 1, 1, 1,\n",
       "        1, 1, 1, 1, 1, 1, 2, 2, 0, 2, 2, 2, 2, 2, 2, 2, 2, 2, 2, 2, 2, 2,\n",
       "        2, 2, 2, 2, 2, 2, 2, 2, 2, 2, 2, 0, 2, 2, 2, 2, 2, 2, 2, 2, 2, 2,\n",
       "        2, 2, 2, 2, 2, 2, 2, 2, 2, 2, 2, 2, 0, 2, 0, 0, 0, 0, 2, 0, 0, 0,\n",
       "        0, 0, 0, 2, 2, 0, 0, 0, 0, 2, 0, 2, 0, 2, 0, 0, 2, 2, 0, 0, 0, 0,\n",
       "        0, 2, 0, 0, 0, 0, 2, 0, 0, 0, 2, 0, 0, 0, 2, 0, 0, 2], dtype=int32),\n",
       " array([0, 0, 0, 0, 0, 0, 0, 0, 0, 0, 0, 0, 0, 0, 0, 0, 0, 0, 0, 0, 0, 0,\n",
       "        0, 0, 0, 0, 0, 0, 0, 0, 0, 0, 0, 0, 0, 0, 0, 0, 0, 0, 0, 0, 0, 0,\n",
       "        0, 0, 0, 0, 0, 0, 1, 1, 1, 1, 1, 1, 1, 1, 1, 1, 1, 1, 1, 1, 1, 1,\n",
       "        1, 1, 1, 1, 1, 1, 1, 1, 1, 1, 1, 1, 1, 1, 1, 1, 1, 1, 1, 1, 1, 1,\n",
       "        1, 1, 1, 1, 1, 1, 1, 1, 1, 1, 1, 1, 2, 2, 2, 2, 2, 2, 2, 2, 2, 2,\n",
       "        2, 2, 2, 2, 2, 2, 2, 2, 2, 2, 2, 2, 2, 2, 2, 2, 2, 2, 2, 2, 2, 2,\n",
       "        2, 2, 2, 2, 2, 2, 2, 2, 2, 2, 2, 2, 2, 2, 2, 2, 2, 2]))"
      ]
     },
     "execution_count": 2,
     "metadata": {},
     "output_type": "execute_result"
    }
   ],
   "source": [
    "from sklearn import cluster, datasets\n",
    "\n",
    "iris = datasets.load_iris()\n",
    "\n",
    "X_iris, y_iris = iris.data, iris.target\n",
    "\n",
    "k_means = cluster.KMeans(n_clusters=3)\n",
    "k_means.fit(X_iris) \n",
    "\n",
    "k_means.labels_, iris.target"
   ]
  },
  {
   "cell_type": "markdown",
   "metadata": {},
   "source": [
    "Посчитаем `purity`\n",
    "\n",
    "https://stackoverflow.com/questions/34047540/python-clustering-purity-metric"
   ]
  },
  {
   "cell_type": "code",
   "execution_count": 3,
   "metadata": {},
   "outputs": [],
   "source": [
    "import numpy as np\n",
    "from sklearn import metrics\n",
    "\n",
    "def purity_score(y_true, y_pred):\n",
    "    # compute contingency matrix (also called confusion matrix)\n",
    "    contingency_matrix = metrics.cluster.contingency_matrix(y_true, y_pred)\n",
    "    \n",
    "    return np.sum(np.amax(contingency_matrix, axis=0)) / np.sum(contingency_matrix) "
   ]
  },
  {
   "cell_type": "code",
   "execution_count": 4,
   "metadata": {},
   "outputs": [
    {
     "data": {
      "text/plain": [
       "0.3333333333333333"
      ]
     },
     "execution_count": 4,
     "metadata": {},
     "output_type": "execute_result"
    }
   ],
   "source": [
    "purity_score(iris.target, [4] * len(iris.target))"
   ]
  },
  {
   "cell_type": "markdown",
   "metadata": {},
   "source": [
    "Так уж получилось, что ирисы неплохо \"кластеризованы\", \n",
    "поэтому метод ближайших соседей неплохо работал на классификации.\n",
    "\n",
    "**Note**: in real life, мы почти никогда не знаем ни полного \"правильного разбиения\", ни смысла кластеров.\n",
    "Поэтому нужны другие методы оценки качества кластеризации.\n",
    "\n",
    "Посмотрим, насколько хорошо обучилось отображение класс -> кластер"
   ]
  },
  {
   "cell_type": "code",
   "execution_count": 5,
   "metadata": {},
   "outputs": [
    {
     "name": "stdout",
     "output_type": "stream",
     "text": [
      "true  cluster\n",
      "0     1          50\n",
      "1     0           2\n",
      "      2          48\n",
      "2     0          36\n",
      "      2          14\n",
      "dtype: int64\n"
     ]
    }
   ],
   "source": [
    "import pandas as pd # overkill, but still\n",
    "\n",
    "df = pd.DataFrame()\n",
    "df[\"true\"] = iris.target\n",
    "df[\"cluster\"] = k_means.labels_\n",
    "\n",
    "print(df.groupby([\"true\", \"cluster\"]).size())\n",
    "\n",
    "# видим, что один класс разбивается на два кластера \n",
    "# было бы здорово взглянуть на это всё на картинке"
   ]
  },
  {
   "cell_type": "code",
   "execution_count": 6,
   "metadata": {},
   "outputs": [],
   "source": [
    "# Adapted from\n",
    "# http://scikit-learn.org/stable/auto_examples/datasets/plot_iris_dataset.html\n",
    "from sklearn import datasets\n",
    "\n",
    "features = [\"sepal length\", \"sepal width\", \"petal length\", \"petal width\"]\n",
    "\n",
    "def draw_projections(X, y):\n",
    "    plt.figure(1) \n",
    "    plt.clf()\n",
    "\n",
    "    # отрисовываем проекции по всем парам признаков\n",
    "\n",
    "    for f0 in range(len(features)):\n",
    "        for f1 in range(f0):\n",
    "            plt.scatter(X[:, f0], X[:, f1], c=y * y, cmap=plt.cm.Paired)\n",
    "            plt.xticks(())\n",
    "            plt.yticks(())\n",
    "            plt.xlabel(features[f0])\n",
    "            plt.ylabel(features[f1])\n",
    "            plt.show()"
   ]
  },
  {
   "cell_type": "markdown",
   "metadata": {},
   "source": [
    "\"На глазок\" - хорошо получилось?"
   ]
  },
  {
   "cell_type": "code",
   "execution_count": 7,
   "metadata": {},
   "outputs": [
    {
     "data": {
      "image/png": "[encoded data removed]",
      "text/plain": [
       "<Figure size 432x288 with 1 Axes>"
      ]
     },
     "metadata": {},
     "output_type": "display_data"
    },
    {
     "data": {
      "image/png": "[encoded data removed]",
      "text/plain": [
       "<Figure size 432x288 with 1 Axes>"
      ]
     },
     "metadata": {},
     "output_type": "display_data"
    },
    {
     "data": {
      "image/png": "[encoded data removed]",
      "text/plain": [
       "<Figure size 432x288 with 1 Axes>"
      ]
     },
     "metadata": {},
     "output_type": "display_data"
    },
    {
     "data": {
      "image/png": "[encoded data removed]",
      "text/plain": [
       "<Figure size 432x288 with 1 Axes>"
      ]
     },
     "metadata": {},
     "output_type": "display_data"
    },
    {
     "data": {
      "image/png": "[encoded data removed]",
      "text/plain": [
       "<Figure size 432x288 with 1 Axes>"
      ]
     },
     "metadata": {},
     "output_type": "display_data"
    },
    {
     "data": {
      "image/png": "[encoded data removed]",
      "text/plain": [
       "<Figure size 432x288 with 1 Axes>"
      ]
     },
     "metadata": {},
     "output_type": "display_data"
    }
   ],
   "source": [
    "# draw_projections(iris.data, iris.target)\n",
    "draw_projections(iris.data, k_means.labels_)"
   ]
  },
  {
   "cell_type": "markdown",
   "metadata": {},
   "source": [
    "### TODO: более вдумчивый анализ и симпатичные картинки"
   ]
  },
  {
   "cell_type": "code",
   "execution_count": null,
   "metadata": {},
   "outputs": [],
   "source": [
    "# from sklearn.decomposition import PCA\n",
    "# from mpl_toolkits.mplot3d import Axes3D\n",
    "# # Можно и в трёх измерениях\n",
    "# # Самостоятельное изучение\n",
    "\n",
    "\"\"\"\n",
    "fig = plt.figure(1, figsize=(8, 6))\n",
    "ax = Axes3D(fig, elev=-150, azim=110)\n",
    "X_reduced = PCA(n_components=2).fit_transform(iris.data)\n",
    "\n",
    "ax.scatter(X_reduced[:, 0], X_reduced[:, 1], X_reduced[:, 2], c=Y, cmap=plt.cm.Paired)\n",
    "ax.set_title(\"First three PCA directions\")\n",
    "ax.set_xlabel(\"1st eigenvector\")\n",
    "ax.w_xaxis.set_ticklabels([])\n",
    "ax.set_ylabel(\"2nd eigenvector\")\n",
    "ax.w_yaxis.set_ticklabels([])\n",
    "ax.set_zlabel(\"3rd eigenvector\")\n",
    "ax.w_zaxis.set_ticklabels([])\n",
    "plt.show()\n",
    "\"\"\"\n",
    "\n",
    "# # ...линейному классификатору действительно должно быть очень просто\n",
    "# # Самостоятельная работа\n",
    "# # 0) *Посмотреть то же в 3D.\n",
    "# # 1) Поменять метки класса на метки кластера и сформулировать, как именно \"глупит\" KMeans.\n",
    "# # 2) Применить другой метод кластеризации для малых размерностей из sklearn; посмотреть на разные варианты \n",
    "# #    расстояний между объектами.\n",
    "# # 3) *Неплохие инструменты есть и в scipy: https://docs.scipy.org/doc/scipy-0.18.1/reference/cluster.html"
   ]
  },
  {
   "cell_type": "markdown",
   "metadata": {},
   "source": [
    "## TODO: самостоятельная работа\n",
    "\n",
    "Загрузите, кластеризуйте и визуализируйте (google the docs) разбиение датасетов несколькими алгоритмами: \n",
    "- BIRCH, \n",
    "- DBSCAN, \n",
    "- agglomerative clustering, \n",
    "- KMeans (MiniBatchKMeans), \n",
    "- %your_favourive_clustering_algorithm%\n",
    "\n",
    "**Сделайте выводы об их ограничениях и преимуществах.**\n",
    "\n",
    "https://scikit-learn.org/stable/modules/clustering.html#overview-of-clustering-methods"
   ]
  },
  {
   "cell_type": "code",
   "execution_count": null,
   "metadata": {},
   "outputs": [],
   "source": [
    "from sklearn import cluster, datasets\n",
    "\n",
    "n_items = 2000\n",
    "\n",
    "circles = datasets.make_circles(n_samples=n_items, factor=.5, noise=.02)\n",
    "moons = datasets.make_moons(n_samples=n_items, noise=.03)\n",
    "blobs = datasets.make_blobs(n_samples=n_items, random_state=8)\n",
    "totally_random = np.random.rand(n_items, 2)\n",
    "\n",
    "# TODO: ???"
   ]
  },
  {
   "cell_type": "markdown",
   "metadata": {},
   "source": [
    "---\n",
    "\n",
    "## Интересное применение к картинкам\n",
    "\n",
    "Адаптация примера из курса К.В. Воронцова.\n",
    "\n",
    "Преобразуем изображение, приведя все значения\n",
    "в интервал [0, 1]: можно использовать функцию `img_as_float` из модуля `skimage`."
   ]
  },
  {
   "cell_type": "code",
   "execution_count": null,
   "metadata": {},
   "outputs": [],
   "source": [
    "! pip install -q scikit-image"
   ]
  },
  {
   "cell_type": "markdown",
   "metadata": {},
   "source": [
    "Каждый пиксель пусть характеризуется тремя координатами - значениями интенсивности в RGB.\n",
    "\n",
    "Кластеризуем, и все пиксели, отнесенные в один кластер, попробуем заполнить двумя способами: медианным и средним цветом по кластеру. \n",
    "\n",
    "Таким образом мы \"сжимаем\" изображение. В этом случае непраздным может быть вопрос -- каково минимальное количество кластеров, при котором значение PSNR выше 15?"
   ]
  },
  {
   "cell_type": "code",
   "execution_count": null,
   "metadata": {},
   "outputs": [],
   "source": [
    "import skimage\n",
    "from skimage import data, io\n",
    "from skimage.io import imread, imsave\n",
    "from sklearn.cluster import KMeans\n",
    "\n",
    "image = imread(\"gumilev.jpg\")\n",
    "io.imshow(image)"
   ]
  },
  {
   "cell_type": "code",
   "execution_count": null,
   "metadata": {},
   "outputs": [],
   "source": [
    "float_image = skimage.img_as_float(image, force_copy=True)\n",
    "float_image.shape"
   ]
  },
  {
   "cell_type": "markdown",
   "metadata": {},
   "source": [
    "Переведём в набор троек RGB"
   ]
  },
  {
   "cell_type": "code",
   "execution_count": null,
   "metadata": {},
   "outputs": [],
   "source": [
    "RGB = np.reshape(float_image.copy(), \n",
    "                 (float_image.shape[0] * float_image.shape[1], float_image.shape[2]))\n",
    "RGB.shape, RGB"
   ]
  },
  {
   "cell_type": "markdown",
   "metadata": {},
   "source": [
    "**PSNR -- peak signal-to-noise ratio**\n",
    "\n",
    "Соотношение между максимумом возможного значения сигнала и мощностью шума, искажающего значения сигнала. Поскольку многие сигналы имеют широкий динамический диапазон, PSNR обычно измеряется в логарифмической шкале в децибелах.\n",
    "\n",
    "PSNR наиболее часто используется для измерения уровня искажений при сжатии изображений. \n",
    "\n",
    "$$PSNR = 10 ~ \\log_{10} \\frac{MAX_{orig}^2}{MSE}$$"
   ]
  },
  {
   "cell_type": "code",
   "execution_count": null,
   "metadata": {},
   "outputs": [],
   "source": [
    "def psnr(X_true, X_clustered):\n",
    "    \n",
    "    size = X_true.shape[0] * X_true.shape[1] * X_true.shape[2]\n",
    "    mse = np.sum((X_true - X_clustered) ** 2) / size\n",
    "    max_2 = np.max(X_true) ** 2\n",
    "    \n",
    "    return 10 * np.log10(max_2 / mse)"
   ]
  },
  {
   "cell_type": "code",
   "execution_count": null,
   "metadata": {},
   "outputs": [],
   "source": [
    "for n_clusters in reversed(range(1, 15)):\n",
    "    \n",
    "    print(n_clusters, end=\" \")\n",
    "    \n",
    "    # группируем цвета, которые есть в изображении\n",
    "    model = KMeans(n_clusters=n_clusters, verbose=False, random_state=100)\n",
    "    model.fit(RGB)\n",
    "    X = RGB.copy()\n",
    "    \n",
    "    # запоминаем метки кластеров\n",
    "    labels = model.labels_.T\n",
    "\n",
    "    for cluster in range(n_clusters):\n",
    "        \n",
    "        # по каким индексам в списке пикселей живёт этот кластер?\n",
    "        args = np.argwhere(np.equal(cluster, labels)).T[0]\n",
    "        \n",
    "        # заполняем заполненное средним\n",
    "        if args.shape[0] > 0:\n",
    "            X[args, :] = np.mean(X[args, :], axis=0)\n",
    "\n",
    "    # обратно в трёхмерный вид\n",
    "    im = np.reshape(X, (float_image.shape[0], float_image.shape[1], float_image.shape[2]))\n",
    "    \n",
    "    print(\"Frobenius norm: %3.2f\" % np.linalg.norm(im - float_image), end=\"  \")    \n",
    "    print(\"PSNR: %3.3f\" % psnr(float_image, im))\n",
    "    \n",
    "    rescaled_im = (im * 255).astype(np.uint8)\n",
    "    \n",
    "    # сохраняем\n",
    "    imsave(\"gumilev_\" + str(n_clusters) + \".png\", rescaled_im)"
   ]
  },
  {
   "cell_type": "code",
   "execution_count": null,
   "metadata": {},
   "outputs": [],
   "source": [
    "image = imread(\"gumilev_10.png\")\n",
    "io.imshow(image)"
   ]
  },
  {
   "cell_type": "markdown",
   "metadata": {},
   "source": [
    "---\n",
    "\n",
    "## Векторные представления слов\n",
    "\n",
    "Векторные представления слов (года с 2013 это преимущественно word embeddings) -- очень мощный инструмент в обработке естественного языка.\n",
    "\n",
    "Для нескольких задач с минимальным supervision их часто используют в явном виде. Попробуем посмотреть на их выразительную способность и мы.\n",
    "\n",
    "\n",
    "Скачаем самые маленькие русские word2vec-и с RusVectores: **ruscorpora_upos_cbow_300_20_2019**"
   ]
  },
  {
   "cell_type": "code",
   "execution_count": null,
   "metadata": {},
   "outputs": [],
   "source": [
    "# ! bash -c \"wget -q http://vectors.nlpl.eu/repository/20/182.zip\""
   ]
  },
  {
   "cell_type": "code",
   "execution_count": null,
   "metadata": {},
   "outputs": [],
   "source": [
    "# ! bash -c \"unzip -o 182.zip\""
   ]
  },
  {
   "cell_type": "markdown",
   "metadata": {},
   "source": [
    "Что за файл такой model.txt?\n",
    "\n",
    "В первой строке размер словаря и размерность векторов. Дальше `[слово_частьречи] [вектор]`"
   ]
  },
  {
   "cell_type": "markdown",
   "metadata": {},
   "source": [
    "Заведём набор мусорных слов"
   ]
  },
  {
   "cell_type": "code",
   "execution_count": 5,
   "metadata": {},
   "outputs": [
    {
     "name": "stderr",
     "output_type": "stream",
     "text": [
      "[nltk_data] Downloading package stopwords to /home/artem/nltk_data...\n",
      "[nltk_data]   Package stopwords is already up-to-date!\n"
     ]
    }
   ],
   "source": [
    "import nltk\n",
    "from nltk.corpus import stopwords\n",
    "\n",
    "nltk.download(\"stopwords\")\n",
    "STOPS = set(stopwords.words(\"russian\"))"
   ]
  },
  {
   "cell_type": "code",
   "execution_count": 6,
   "metadata": {},
   "outputs": [
    {
     "data": {
      "text/plain": [
       "{'а',\n",
       " 'без',\n",
       " 'более',\n",
       " 'больше',\n",
       " 'будет',\n",
       " 'будто',\n",
       " 'бы',\n",
       " 'был',\n",
       " 'была',\n",
       " 'были',\n",
       " 'было',\n",
       " 'быть',\n",
       " 'в',\n",
       " 'вам',\n",
       " 'вас',\n",
       " 'вдруг',\n",
       " 'ведь',\n",
       " 'во',\n",
       " 'вот',\n",
       " 'впрочем',\n",
       " 'все',\n",
       " 'всегда',\n",
       " 'всего',\n",
       " 'всех',\n",
       " 'всю',\n",
       " 'вы',\n",
       " 'где',\n",
       " 'да',\n",
       " 'даже',\n",
       " 'два',\n",
       " 'для',\n",
       " 'до',\n",
       " 'другой',\n",
       " 'его',\n",
       " 'ее',\n",
       " 'ей',\n",
       " 'ему',\n",
       " 'если',\n",
       " 'есть',\n",
       " 'еще',\n",
       " 'ж',\n",
       " 'же',\n",
       " 'за',\n",
       " 'зачем',\n",
       " 'здесь',\n",
       " 'и',\n",
       " 'из',\n",
       " 'или',\n",
       " 'им',\n",
       " 'иногда',\n",
       " 'их',\n",
       " 'к',\n",
       " 'как',\n",
       " 'какая',\n",
       " 'какой',\n",
       " 'когда',\n",
       " 'конечно',\n",
       " 'кто',\n",
       " 'куда',\n",
       " 'ли',\n",
       " 'лучше',\n",
       " 'между',\n",
       " 'меня',\n",
       " 'мне',\n",
       " 'много',\n",
       " 'может',\n",
       " 'можно',\n",
       " 'мой',\n",
       " 'моя',\n",
       " 'мы',\n",
       " 'на',\n",
       " 'над',\n",
       " 'надо',\n",
       " 'наконец',\n",
       " 'нас',\n",
       " 'не',\n",
       " 'него',\n",
       " 'нее',\n",
       " 'ней',\n",
       " 'нельзя',\n",
       " 'нет',\n",
       " 'ни',\n",
       " 'нибудь',\n",
       " 'никогда',\n",
       " 'ним',\n",
       " 'них',\n",
       " 'ничего',\n",
       " 'но',\n",
       " 'ну',\n",
       " 'о',\n",
       " 'об',\n",
       " 'один',\n",
       " 'он',\n",
       " 'она',\n",
       " 'они',\n",
       " 'опять',\n",
       " 'от',\n",
       " 'перед',\n",
       " 'по',\n",
       " 'под',\n",
       " 'после',\n",
       " 'потом',\n",
       " 'потому',\n",
       " 'почти',\n",
       " 'при',\n",
       " 'про',\n",
       " 'раз',\n",
       " 'разве',\n",
       " 'с',\n",
       " 'сам',\n",
       " 'свою',\n",
       " 'себе',\n",
       " 'себя',\n",
       " 'сейчас',\n",
       " 'со',\n",
       " 'совсем',\n",
       " 'так',\n",
       " 'такой',\n",
       " 'там',\n",
       " 'тебя',\n",
       " 'тем',\n",
       " 'теперь',\n",
       " 'то',\n",
       " 'тогда',\n",
       " 'того',\n",
       " 'тоже',\n",
       " 'только',\n",
       " 'том',\n",
       " 'тот',\n",
       " 'три',\n",
       " 'тут',\n",
       " 'ты',\n",
       " 'у',\n",
       " 'уж',\n",
       " 'уже',\n",
       " 'хорошо',\n",
       " 'хоть',\n",
       " 'чего',\n",
       " 'чем',\n",
       " 'через',\n",
       " 'что',\n",
       " 'чтоб',\n",
       " 'чтобы',\n",
       " 'чуть',\n",
       " 'эти',\n",
       " 'этого',\n",
       " 'этой',\n",
       " 'этом',\n",
       " 'этот',\n",
       " 'эту',\n",
       " 'я'}"
      ]
     },
     "execution_count": 6,
     "metadata": {},
     "output_type": "execute_result"
    }
   ],
   "source": [
    "STOPS"
   ]
  },
  {
   "cell_type": "markdown",
   "metadata": {},
   "source": [
    "Отфильтруем по частотному словарю"
   ]
  },
  {
   "cell_type": "code",
   "execution_count": 9,
   "metadata": {},
   "outputs": [
    {
     "name": "stdout",
     "output_type": "stream",
     "text": [
      "1 36358.94 � misc\r",
      "\r\n",
      "2 27792.36 � prep\r",
      "\r\n",
      "3 20689.51 �� misc\r",
      "\r\n",
      "4 18942.62 �� pron\r",
      "\r\n",
      "5 16588.14 �� prep\r",
      "\r\n",
      "6 15631.11 � pron\r",
      "\r\n",
      "7 12546.08 ��� misc\r",
      "\r\n",
      "8 11398.44 ��� adjpron\r",
      "\r\n",
      "9 11223.99 ���� verb\r",
      "\r\n",
      "10 11150.72 � prep\r",
      "\r\n"
     ]
    }
   ],
   "source": [
    "# ! bash -c \"wget http://www.artint.ru/projects/frqlist/lemma.num.zip \"\n",
    "# ! bash -c \"unzip -o -q lemma.num.zip \" \n",
    "! bash -c \"head -10 lemma.num \""
   ]
  },
  {
   "cell_type": "code",
   "execution_count": null,
   "metadata": {},
   "outputs": [],
   "source": []
  },
  {
   "cell_type": "code",
   "execution_count": 10,
   "metadata": {},
   "outputs": [
    {
     "data": {
      "text/plain": [
       "32378"
      ]
     },
     "execution_count": 10,
     "metadata": {},
     "output_type": "execute_result"
    }
   ],
   "source": [
    "freq_list = set([line.strip().split(\" \")[2] \n",
    "                  for line in open(\"lemma.num\", \"r+\", encoding=\"cp1251\").readlines() \n",
    "                  if line.strip()]).difference(STOPS)\n",
    "\n",
    "len(freq_list)"
   ]
  },
  {
   "cell_type": "markdown",
   "metadata": {},
   "source": [
    "Зачитывание займёт в пределах полутора минут"
   ]
  },
  {
   "cell_type": "code",
   "execution_count": 12,
   "metadata": {},
   "outputs": [
    {
     "data": {
      "application/vnd.jupyter.widget-view+json": {
       "model_id": "ee045b0c27a34614b763e7fedac65500",
       "version_major": 2,
       "version_minor": 0
      },
      "text/plain": [
       "HBox(children=(FloatProgress(value=1.0, bar_style='info', max=1.0), HTML(value='')))"
      ]
     },
     "metadata": {},
     "output_type": "display_data"
    },
    {
     "name": "stdout",
     "output_type": "stream",
     "text": [
      "\n"
     ]
    }
   ],
   "source": [
    "import numpy as np\n",
    "from tqdm.notebook import tqdm\n",
    "\n",
    "tokens = []\n",
    "raw_vectors = []\n",
    "\n",
    "with open(\"model.txt\", \"r+\", encoding=\"utf-8\") as rf:\n",
    "    \n",
    "    # пропускаем первую строку\n",
    "    next(rf) \n",
    "    \n",
    "    for line in tqdm(rf):\n",
    "        line = line.strip()\n",
    "        splitted = line.split(\" \") \n",
    "        vector = np.array([float(n) for n in splitted[1:]])\n",
    "        token = splitted[0].split(\"_\")[0]\n",
    "        \n",
    "        if token in freq_list:\n",
    "            tokens.append(token)\n",
    "            raw_vectors.append(vector)"
   ]
  },
  {
   "cell_type": "code",
   "execution_count": 13,
   "metadata": {},
   "outputs": [
    {
     "data": {
      "text/plain": [
       "(50379, 50379)"
      ]
     },
     "execution_count": 13,
     "metadata": {},
     "output_type": "execute_result"
    }
   ],
   "source": [
    "len(tokens), len(raw_vectors)"
   ]
  },
  {
   "cell_type": "code",
   "execution_count": 14,
   "metadata": {},
   "outputs": [],
   "source": [
    "token2id = {t: i for i, t in enumerate(tokens)}\n",
    "vectors = np.array(raw_vectors)\n",
    "\n",
    "# может, нормализовать?\n",
    "# vectors = vectors / np.sum(vectors, axis=1)[:,np.newaxis]\n",
    "# vectors.shape, vectors.sum(axis=1).shape, vectors.sum(axis=1)"
   ]
  },
  {
   "cell_type": "code",
   "execution_count": 15,
   "metadata": {},
   "outputs": [
    {
     "data": {
      "text/plain": [
       "MiniBatchKMeans(batch_size=500, max_iter=1000, n_clusters=50, n_init=10,\n",
       "                random_state=100, reassignment_ratio=0.1)"
      ]
     },
     "execution_count": 15,
     "metadata": {},
     "output_type": "execute_result"
    }
   ],
   "source": [
    "from sklearn import cluster\n",
    "\n",
    "mbk_means = cluster.MiniBatchKMeans(n_clusters=50, batch_size=500, max_iter=1000, n_init=10,\n",
    "                                    random_state=100, reassignment_ratio=0.1)\n",
    "mbk_means.fit(vectors) "
   ]
  },
  {
   "cell_type": "code",
   "execution_count": 16,
   "metadata": {},
   "outputs": [
    {
     "data": {
      "text/plain": [
       "array([27,  1,  9, ..., 20, 47,  6], dtype=int32)"
      ]
     },
     "execution_count": 16,
     "metadata": {},
     "output_type": "execute_result"
    }
   ],
   "source": [
    "mbk_means.labels_"
   ]
  },
  {
   "cell_type": "code",
   "execution_count": 17,
   "metadata": {},
   "outputs": [],
   "source": [
    "tokens2clusters = {t: c for t, c in zip(tokens, mbk_means.labels_)}\n",
    "cluster2tokens = {l : [] for l in mbk_means.labels_}\n",
    "\n",
    "for t, c in tokens2clusters.items():\n",
    "    cluster2tokens[c].append(t)   "
   ]
  },
  {
   "cell_type": "markdown",
   "metadata": {},
   "source": [
    "### Распечатаем получившиеся кластеры"
   ]
  },
  {
   "cell_type": "code",
   "execution_count": 18,
   "metadata": {},
   "outputs": [
    {
     "name": "stdout",
     "output_type": "stream",
     "text": [
      "\n",
      ">-- Cluster #27, 1152 objects.\n",
      "также получать российский принимать несколько называть представлять вместе международный официальный партия организация статья общество политический\n",
      "\n",
      ">-- Cluster #1, 806 objects.\n",
      "гражданин крестьянин плохой еврей толпа молодежь чиновник ранг учить убийца англичанин дворянин дон прозвище крепостной\n",
      "\n",
      ">-- Cluster #9, 1753 objects.\n",
      "мочь являться сказать жизнь находиться однако сила случай считать происходить понимать приходить оказываться находить третий\n",
      "\n",
      ">-- Cluster #31, 549 objects.\n",
      "россия знать страна род земля поселение южный современный например остров населенный союз центральный республика относиться\n",
      "\n",
      ">-- Cluster #25, 836 objects.\n",
      "дело деревня село дорога площадь здание поселок далее участок дверь комната стена ныне лежать серебряный\n",
      "\n",
      ">-- Cluster #8, 1361 objects.\n",
      "время становиться часть день рождаться затем появляться стоять начинаться море свет поле проживать достигать сердце\n",
      "\n",
      ">-- Cluster #16, 786 objects.\n",
      "советский государственный начинать работать москва главный улица центр ссср школа сельский пункт университет московский городской\n",
      "\n",
      ">-- Cluster #17, 903 objects.\n",
      "казаться свобода счастье проявлять красота вкус всеобщий стремление юношеский совесть поступок сексуальный готовность моральный противоречие\n",
      "\n",
      ">-- Cluster #23, 540 objects.\n",
      "лес озеро растение дерево зеленый приток речной расти лесной редко сухой редкий почва трава порода\n",
      "\n",
      ">-- Cluster #49, 1231 objects.\n",
      "проходить лицо минута слышать холодный рот тихий кричать улыбаться смеяться вслед удивляться разговаривать взглядывать раздаваться\n",
      "\n",
      ">-- Cluster #44, 846 objects.\n",
      "место составлять число писать книга выступать альбом песня театр часто немецкий автор материал отмечать произведение\n",
      "\n",
      ">-- Cluster #6, 1213 objects.\n",
      "новый иметь километр оставаться компания станция строить устанавливать тип показывать выпускать корабль корпус длина боевой\n",
      "\n",
      ">-- Cluster #4, 1921 objects.\n",
      "говорить смотреть выходить брать хотеть хороший берег думать решать пойти небольшой попадать сегодня половина порядок\n",
      "\n",
      ">-- Cluster #47, 1414 objects.\n",
      "игра старый старший особенно тяжелый герой сильный совершенно простой значительный взгляд уметь долго сильно чувствовать\n",
      "\n",
      ">-- Cluster #38, 641 objects.\n",
      "военный армия начальник полк погибать офицер отряд стрелковый оружие штаб оборона возглавлять бригада генеральный батальон\n",
      "\n",
      ">-- Cluster #21, 1083 objects.\n",
      "сша сентябрь команда август округ стать матч сезон американский игрок франция северный олимпийский европа поздно\n",
      "\n",
      ">-- Cluster #48, 1827 objects.\n",
      "сторона нога удар подниматься падать останавливаться вставать захватывать забивать класть хватать ближайший набирать отходить вниз\n",
      "\n",
      ">-- Cluster #20, 1386 objects.\n",
      "группа система использовать основной национальный создавать ребенок результат вопрос отношение развитие степень форма существовать движение\n",
      "\n",
      ">-- Cluster #45, 691 objects.\n",
      "год район область состав работа население член сайт история проводить февраль клуб роль участие образование\n",
      "\n",
      ">-- Cluster #34, 1075 objects.\n",
      "человек первый самый имя река входить век известный давать слово видеть последний рука дом каждый\n",
      "\n",
      ">-- Cluster #39, 983 objects.\n",
      "второй очень занимать друг идти женщина право молодой жена час спрашивать вернуться продолжать уходить мужчина\n",
      "\n",
      ">-- Cluster #11, 1556 objects.\n",
      "красный глаз семья белый край золотой четыре сидеть цвет окно правый длинный поднимать шесть угол\n",
      "\n",
      ">-- Cluster #22, 554 objects.\n",
      "вода воздух поверхность температура соединение миллиметр вещество давление сутки стекло двигаться напряжение компонент делиться исследовать\n",
      "\n",
      ">-- Cluster #37, 674 objects.\n",
      "вид крупный горный похожий напоминать собака рыба существо петь серый ночной бить добыча самка зверь\n",
      "\n",
      ">-- Cluster #26, 1397 objects.\n",
      "большой май голова бой черный профессор директор помогать морской маленький капитан свободный полковник очередь рамка\n",
      "\n",
      ">-- Cluster #12, 731 objects.\n",
      "носить одежда золото костюм ткань шея кровать надевать диван рукав шляпа платок одевать подбирать рубашка\n",
      "\n",
      ">-- Cluster #14, 2006 objects.\n",
      "город война мир делать русский фильм язык конец октябрь название начало январь март июль апрель\n",
      "\n",
      ">-- Cluster #42, 719 objects.\n",
      "местный болезнь выражать лечение заболевание лишать препарат поражать головной насекомое вена травма нервный пациент половой\n",
      "\n",
      ">-- Cluster #41, 828 objects.\n",
      "чай масло пища вино запах соль яйцо бутылка мясо молоко водка печь чили сорт стакан\n",
      "\n",
      ">-- Cluster #29, 3 objects.\n",
      "исправительный проступок повешение\n",
      "\n",
      ">-- Cluster #43, 2 objects.\n",
      "пересечение пересекаться\n",
      "\n",
      ">-- Cluster #32, 4 objects.\n",
      "одеваться одеться переодеваться причесываться\n",
      "\n",
      ">-- Cluster #5, 0 objects.\n",
      "\n",
      "\n",
      ">-- Cluster #30, 1 objects.\n",
      "потухший\n",
      "\n",
      ">-- Cluster #19, 1 objects.\n",
      "сборка\n",
      "\n",
      ">-- Cluster #33, 1 objects.\n",
      "воскресенье\n",
      "\n",
      ">-- Cluster #24, 1 objects.\n",
      "гребец\n",
      "\n",
      ">-- Cluster #3, 3 objects.\n",
      "эритроцит лимфоцит лейкоцит\n",
      "\n",
      ">-- Cluster #40, 0 objects.\n",
      "\n",
      "\n",
      ">-- Cluster #13, 2 objects.\n",
      "гарнир тушеный\n",
      "\n",
      ">-- Cluster #2, 3 objects.\n",
      "осыпать сыпаться пересыпать\n",
      "\n",
      ">-- Cluster #36, 2 objects.\n",
      "вселять вселить\n",
      "\n",
      ">-- Cluster #18, 1 objects.\n",
      "прилепиться\n",
      "\n",
      ">-- Cluster #7, 2 objects.\n",
      "обветшать обветшалый\n",
      "\n",
      ">-- Cluster #15, 0 objects.\n",
      "\n",
      "\n",
      ">-- Cluster #0, 0 objects.\n",
      "\n",
      "\n",
      ">-- Cluster #28, 1 objects.\n",
      "конспиратор\n",
      "\n",
      ">-- Cluster #35, 0 objects.\n",
      "\n",
      "\n",
      ">-- Cluster #46, 1 objects.\n",
      "гражданский\n",
      "\n",
      ">-- Cluster #10, 1 objects.\n",
      "налипнуть\n"
     ]
    }
   ],
   "source": [
    "for c in list(cluster2tokens)[:50]:\n",
    "    \n",
    "    print(f\"\\n>-- Cluster #{c}, {len(cluster2tokens[c])} objects.\")\n",
    "    print(\" \".join([w for w in cluster2tokens[c][:15]]))"
   ]
  },
  {
   "cell_type": "markdown",
   "metadata": {},
   "source": [
    "### Визуализация\n",
    "\n",
    "**UMAP** (2018) is a fairly flexible non-linear dimension reduction algorithm. It seeks to learn the manifold structure of your data and find a low dimensional embedding that preserves the essential topological structure of that manifold. \n",
    "\n",
    "Поверхностное и не слишком формальное, но и не самое короткое [объяснение алгоритма здесь](https://umap-learn.readthedocs.io/en/latest/how_umap_works.html)\n",
    "\n",
    "Статья:\n",
    "https://arxiv.org/abs/1802.03426\n"
   ]
  },
  {
   "cell_type": "code",
   "execution_count": 24,
   "metadata": {},
   "outputs": [
    {
     "ename": "AttributeError",
     "evalue": "module 'numba.core.types' has no attribute 'StructRef'",
     "output_type": "error",
     "traceback": [
      "\u001b[0;31m---------------------------------------------------------------------------\u001b[0m",
      "\u001b[0;31mAttributeError\u001b[0m                            Traceback (most recent call last)",
      "\u001b[0;32m<ipython-input-24-9916d203c51a>\u001b[0m in \u001b[0;36m<module>\u001b[0;34m\u001b[0m\n\u001b[0;32m----> 1\u001b[0;31m \u001b[0;32mimport\u001b[0m \u001b[0mumap\u001b[0m\u001b[0;34m\u001b[0m\u001b[0;34m\u001b[0m\u001b[0m\n\u001b[0m\u001b[1;32m      2\u001b[0m \u001b[0mreducer\u001b[0m \u001b[0;34m=\u001b[0m \u001b[0mumap\u001b[0m\u001b[0;34m.\u001b[0m\u001b[0mUMAP\u001b[0m\u001b[0;34m(\u001b[0m\u001b[0mn_neighbors\u001b[0m\u001b[0;34m=\u001b[0m\u001b[0;36m7\u001b[0m\u001b[0;34m,\u001b[0m \u001b[0mmin_dist\u001b[0m\u001b[0;34m=\u001b[0m\u001b[0;36m0.2\u001b[0m\u001b[0;34m,\u001b[0m \u001b[0mmetric\u001b[0m\u001b[0;34m=\u001b[0m\u001b[0;34m\"euclidean\"\u001b[0m\u001b[0;34m,\u001b[0m \u001b[0mrandom_state\u001b[0m\u001b[0;34m=\u001b[0m\u001b[0;36m10\u001b[0m\u001b[0;34m)\u001b[0m\u001b[0;34m\u001b[0m\u001b[0;34m\u001b[0m\u001b[0m\n",
      "\u001b[0;32m~/anaconda3/lib/python3.8/site-packages/umap/__init__.py\u001b[0m in \u001b[0;36m<module>\u001b[0;34m\u001b[0m\n\u001b[1;32m      1\u001b[0m \u001b[0;32mfrom\u001b[0m \u001b[0mwarnings\u001b[0m \u001b[0;32mimport\u001b[0m \u001b[0mwarn\u001b[0m\u001b[0;34m,\u001b[0m \u001b[0mcatch_warnings\u001b[0m\u001b[0;34m,\u001b[0m \u001b[0msimplefilter\u001b[0m\u001b[0;34m\u001b[0m\u001b[0;34m\u001b[0m\u001b[0m\n\u001b[0;32m----> 2\u001b[0;31m \u001b[0;32mfrom\u001b[0m \u001b[0;34m.\u001b[0m\u001b[0mumap_\u001b[0m \u001b[0;32mimport\u001b[0m \u001b[0mUMAP\u001b[0m\u001b[0;34m\u001b[0m\u001b[0;34m\u001b[0m\u001b[0m\n\u001b[0m\u001b[1;32m      3\u001b[0m \u001b[0;34m\u001b[0m\u001b[0m\n\u001b[1;32m      4\u001b[0m \u001b[0;32mtry\u001b[0m\u001b[0;34m:\u001b[0m\u001b[0;34m\u001b[0m\u001b[0;34m\u001b[0m\u001b[0m\n\u001b[1;32m      5\u001b[0m     \u001b[0;32mwith\u001b[0m \u001b[0mcatch_warnings\u001b[0m\u001b[0;34m(\u001b[0m\u001b[0;34m)\u001b[0m\u001b[0;34m:\u001b[0m\u001b[0;34m\u001b[0m\u001b[0;34m\u001b[0m\u001b[0m\n",
      "\u001b[0;32m~/anaconda3/lib/python3.8/site-packages/umap/umap_.py\u001b[0m in \u001b[0;36m<module>\u001b[0;34m\u001b[0m\n\u001b[1;32m     45\u001b[0m )\n\u001b[1;32m     46\u001b[0m \u001b[0;34m\u001b[0m\u001b[0m\n\u001b[0;32m---> 47\u001b[0;31m \u001b[0;32mfrom\u001b[0m \u001b[0mpynndescent\u001b[0m \u001b[0;32mimport\u001b[0m \u001b[0mNNDescent\u001b[0m\u001b[0;34m\u001b[0m\u001b[0;34m\u001b[0m\u001b[0m\n\u001b[0m\u001b[1;32m     48\u001b[0m \u001b[0;32mfrom\u001b[0m \u001b[0mpynndescent\u001b[0m\u001b[0;34m.\u001b[0m\u001b[0mdistances\u001b[0m \u001b[0;32mimport\u001b[0m \u001b[0mnamed_distances\u001b[0m \u001b[0;32mas\u001b[0m \u001b[0mpynn_named_distances\u001b[0m\u001b[0;34m\u001b[0m\u001b[0;34m\u001b[0m\u001b[0m\n\u001b[1;32m     49\u001b[0m \u001b[0;32mfrom\u001b[0m \u001b[0mpynndescent\u001b[0m\u001b[0;34m.\u001b[0m\u001b[0msparse\u001b[0m \u001b[0;32mimport\u001b[0m \u001b[0msparse_named_distances\u001b[0m \u001b[0;32mas\u001b[0m \u001b[0mpynn_sparse_named_distances\u001b[0m\u001b[0;34m\u001b[0m\u001b[0;34m\u001b[0m\u001b[0m\n",
      "\u001b[0;32m~/anaconda3/lib/python3.8/site-packages/pynndescent/__init__.py\u001b[0m in \u001b[0;36m<module>\u001b[0;34m\u001b[0m\n\u001b[1;32m      1\u001b[0m \u001b[0;32mimport\u001b[0m \u001b[0mpkg_resources\u001b[0m\u001b[0;34m\u001b[0m\u001b[0;34m\u001b[0m\u001b[0m\n\u001b[1;32m      2\u001b[0m \u001b[0;32mimport\u001b[0m \u001b[0mnumba\u001b[0m\u001b[0;34m\u001b[0m\u001b[0;34m\u001b[0m\u001b[0m\n\u001b[0;32m----> 3\u001b[0;31m \u001b[0;32mfrom\u001b[0m \u001b[0;34m.\u001b[0m\u001b[0mpynndescent_\u001b[0m \u001b[0;32mimport\u001b[0m \u001b[0mNNDescent\u001b[0m\u001b[0;34m,\u001b[0m \u001b[0mPyNNDescentTransformer\u001b[0m\u001b[0;34m\u001b[0m\u001b[0;34m\u001b[0m\u001b[0m\n\u001b[0m\u001b[1;32m      4\u001b[0m \u001b[0;34m\u001b[0m\u001b[0m\n\u001b[1;32m      5\u001b[0m \u001b[0;31m# Workaround: https://github.com/numba/numba/issues/3341\u001b[0m\u001b[0;34m\u001b[0m\u001b[0;34m\u001b[0m\u001b[0;34m\u001b[0m\u001b[0m\n",
      "\u001b[0;32m~/anaconda3/lib/python3.8/site-packages/pynndescent/pynndescent_.py\u001b[0m in \u001b[0;36m<module>\u001b[0;34m\u001b[0m\n\u001b[1;32m     19\u001b[0m \u001b[0;32mimport\u001b[0m \u001b[0mheapq\u001b[0m\u001b[0;34m\u001b[0m\u001b[0;34m\u001b[0m\u001b[0m\n\u001b[1;32m     20\u001b[0m \u001b[0;34m\u001b[0m\u001b[0m\n\u001b[0;32m---> 21\u001b[0;31m \u001b[0;32mimport\u001b[0m \u001b[0mpynndescent\u001b[0m\u001b[0;34m.\u001b[0m\u001b[0msparse\u001b[0m \u001b[0;32mas\u001b[0m \u001b[0msparse\u001b[0m\u001b[0;34m\u001b[0m\u001b[0;34m\u001b[0m\u001b[0m\n\u001b[0m\u001b[1;32m     22\u001b[0m \u001b[0;32mimport\u001b[0m \u001b[0mpynndescent\u001b[0m\u001b[0;34m.\u001b[0m\u001b[0msparse_nndescent\u001b[0m \u001b[0;32mas\u001b[0m \u001b[0msparse_nnd\u001b[0m\u001b[0;34m\u001b[0m\u001b[0;34m\u001b[0m\u001b[0m\n\u001b[1;32m     23\u001b[0m \u001b[0;32mimport\u001b[0m \u001b[0mpynndescent\u001b[0m\u001b[0;34m.\u001b[0m\u001b[0mdistances\u001b[0m \u001b[0;32mas\u001b[0m \u001b[0mpynnd_dist\u001b[0m\u001b[0;34m\u001b[0m\u001b[0;34m\u001b[0m\u001b[0m\n",
      "\u001b[0;32m~/anaconda3/lib/python3.8/site-packages/pynndescent/sparse.py\u001b[0m in \u001b[0;36m<module>\u001b[0;34m\u001b[0m\n\u001b[1;32m      8\u001b[0m \u001b[0;32mimport\u001b[0m \u001b[0mnumba\u001b[0m\u001b[0;34m\u001b[0m\u001b[0;34m\u001b[0m\u001b[0m\n\u001b[1;32m      9\u001b[0m \u001b[0;34m\u001b[0m\u001b[0m\n\u001b[0;32m---> 10\u001b[0;31m \u001b[0;32mfrom\u001b[0m \u001b[0mpynndescent\u001b[0m\u001b[0;34m.\u001b[0m\u001b[0mutils\u001b[0m \u001b[0;32mimport\u001b[0m \u001b[0mnorm\u001b[0m\u001b[0;34m,\u001b[0m \u001b[0mtau_rand\u001b[0m\u001b[0;34m\u001b[0m\u001b[0;34m\u001b[0m\u001b[0m\n\u001b[0m\u001b[1;32m     11\u001b[0m \u001b[0;32mfrom\u001b[0m \u001b[0mpynndescent\u001b[0m\u001b[0;34m.\u001b[0m\u001b[0mdistances\u001b[0m \u001b[0;32mimport\u001b[0m \u001b[0mkantorovich\u001b[0m\u001b[0;34m\u001b[0m\u001b[0;34m\u001b[0m\u001b[0m\n\u001b[1;32m     12\u001b[0m \u001b[0;34m\u001b[0m\u001b[0m\n",
      "\u001b[0;32m~/anaconda3/lib/python3.8/site-packages/pynndescent/utils.py\u001b[0m in \u001b[0;36m<module>\u001b[0;34m\u001b[0m\n\u001b[1;32m    130\u001b[0m \u001b[0;34m\u001b[0m\u001b[0m\n\u001b[1;32m    131\u001b[0m \u001b[0;34m@\u001b[0m\u001b[0mstructref\u001b[0m\u001b[0;34m.\u001b[0m\u001b[0mregister\u001b[0m\u001b[0;34m\u001b[0m\u001b[0;34m\u001b[0m\u001b[0m\n\u001b[0;32m--> 132\u001b[0;31m \u001b[0;32mclass\u001b[0m \u001b[0mHeapType\u001b[0m\u001b[0;34m(\u001b[0m\u001b[0mtypes\u001b[0m\u001b[0;34m.\u001b[0m\u001b[0mStructRef\u001b[0m\u001b[0;34m)\u001b[0m\u001b[0;34m:\u001b[0m\u001b[0;34m\u001b[0m\u001b[0;34m\u001b[0m\u001b[0m\n\u001b[0m\u001b[1;32m    133\u001b[0m     \u001b[0;32mpass\u001b[0m\u001b[0;34m\u001b[0m\u001b[0;34m\u001b[0m\u001b[0m\n\u001b[1;32m    134\u001b[0m \u001b[0;34m\u001b[0m\u001b[0m\n",
      "\u001b[0;31mAttributeError\u001b[0m: module 'numba.core.types' has no attribute 'StructRef'"
     ]
    }
   ],
   "source": [
    "import umap\n",
    "reducer = umap.UMAP(n_neighbors=7, min_dist=0.2, metric=\"euclidean\", random_state=10)"
   ]
  },
  {
   "cell_type": "code",
   "execution_count": 23,
   "metadata": {},
   "outputs": [
    {
     "ename": "NameError",
     "evalue": "name 'reducer' is not defined",
     "output_type": "error",
     "traceback": [
      "\u001b[0;31m---------------------------------------------------------------------------\u001b[0m",
      "\u001b[0;31mNameError\u001b[0m                                 Traceback (most recent call last)",
      "\u001b[0;32m<ipython-input-23-6ca3e62ee050>\u001b[0m in \u001b[0;36m<module>\u001b[0;34m\u001b[0m\n\u001b[0;32m----> 1\u001b[0;31m \u001b[0membedding\u001b[0m \u001b[0;34m=\u001b[0m \u001b[0mreducer\u001b[0m\u001b[0;34m.\u001b[0m\u001b[0mfit_transform\u001b[0m\u001b[0;34m(\u001b[0m\u001b[0mvectors\u001b[0m\u001b[0;34m)\u001b[0m\u001b[0;34m\u001b[0m\u001b[0;34m\u001b[0m\u001b[0m\n\u001b[0m\u001b[1;32m      2\u001b[0m \u001b[0membedding\u001b[0m\u001b[0;34m.\u001b[0m\u001b[0mshape\u001b[0m\u001b[0;34m\u001b[0m\u001b[0;34m\u001b[0m\u001b[0m\n",
      "\u001b[0;31mNameError\u001b[0m: name 'reducer' is not defined"
     ]
    }
   ],
   "source": [
    "embedding = reducer.fit_transform(vectors)\n",
    "embedding.shape"
   ]
  },
  {
   "cell_type": "code",
   "execution_count": null,
   "metadata": {},
   "outputs": [],
   "source": [
    "import umap.plot\n",
    "umap.plot.points(reducer, labels=mbk_means.labels_)"
   ]
  },
  {
   "cell_type": "markdown",
   "metadata": {},
   "source": [
    "## Приложение?"
   ]
  },
  {
   "cell_type": "code",
   "execution_count": null,
   "metadata": {},
   "outputs": [],
   "source": [
    "! pip install -q pymorphy2\n",
    "! pip install -q nltk"
   ]
  },
  {
   "cell_type": "markdown",
   "metadata": {},
   "source": [
    "Вообще-то русвекторес нормализованы с помощью UDPipe, но мы сейчас можем себе позволить быть плохими."
   ]
  },
  {
   "cell_type": "code",
   "execution_count": null,
   "metadata": {},
   "outputs": [],
   "source": [
    "from pymorphy2 import MorphAnalyzer\n",
    "from pymorphy2.tokenizers import simple_word_tokenize\n",
    "\n",
    "# \"морфологический анализатор\"\n",
    "morph_analyzer = MorphAnalyzer()\n",
    "\n",
    "def filtered_words(token: str):\n",
    "    \n",
    "    normalized = [parsed.normal_form for parsed in morph_analyzer.parse(token)\n",
    "                  if 'NOUN' in parsed.tag or 'ADJF' in parsed.tag]\n",
    "    \n",
    "    return normalized\n",
    "    \n",
    "\n",
    "\n",
    "def closest_cluster(text: str)-> int:\n",
    "    \n",
    "    tokens = [filtered_words(w.lower()) for w in simple_word_tokenize(text) if str.isalpha(w)]\n",
    "    lemmatized_tokens = [w[0] for w in tokens if len(w) > 0 and not w[0] in STOPS]    \n",
    "    print(\"Lemmas:\", lemmatized_tokens)\n",
    "    \n",
    "    text_vectors = [vectors[token2id[t], :] for t in lemmatized_tokens if t in token2id]    \n",
    "    print(\"Found vectors:\", len(text_vectors))\n",
    "    \n",
    "    mean_vector = np.mean(text_vectors, axis=0)\n",
    "    cluster_predicted = mbk_means.predict([mean_vector])[0]\n",
    "    print(\"Predicted cluster:\", cluster_predicted)\n",
    "    \n",
    "    return cluster_predicted\n",
    "\n",
    "\n",
    "cluster_id = closest_cluster(\"В Солнечной системе девять планет.\")\n",
    "cluster2tokens[cluster_id][:30]"
   ]
  },
  {
   "cell_type": "markdown",
   "metadata": {},
   "source": [
    "## Снова о текстах, точнее, о строках\n",
    "\n",
    "Довольно часто бывает нужно избавиться от неточных дубликатов коротких текстов, и никаких особых методов родом из предметной области (или внешних вспомогательных данных) для этого нет.\n",
    "\n",
    "Кроме того, как первое приближение для понимания, о чём вообще все эти короткие тексты, как их можно потом размечать, объединять в группы и так далее, -- может помочь кластеризация. Есть и другие методы без учителя, конечно, но у всех свои ограничения.\n",
    "\n",
    "На безрыбье, словом, может подойти и группировка по похожему написанию."
   ]
  },
  {
   "cell_type": "code",
   "execution_count": null,
   "metadata": {},
   "outputs": [],
   "source": [
    "items = [w.strip() for w in open(\"fallout_possible_items.txt\", \"r+\", encoding=\"utf-8\").readlines() if w.strip()]\n",
    "len(items)"
   ]
  },
  {
   "cell_type": "code",
   "execution_count": null,
   "metadata": {},
   "outputs": [],
   "source": [
    "len(set(items))"
   ]
  },
  {
   "cell_type": "code",
   "execution_count": null,
   "metadata": {},
   "outputs": [],
   "source": [
    "items = list(set(items))"
   ]
  },
  {
   "cell_type": "markdown",
   "metadata": {},
   "source": [
    "Ужас в том, что дубликатов много, а с этими объектами надо как-то уметь работать. Замысел: попробуем их кластеризовать просто на основе расстояний между строками (есть и более интеллектуальные подходы).\n",
    "\n",
    "---\n",
    "\n",
    "**SequenceMatcher.get_matching_blocks:** Return list of triples describing non-overlapping matching subsequences. Each triple is of the form (i, j, n), and means that a[i:i+n] == b[j:j+n]. The triples are monotonically increasing in i and j.\n",
    "\n",
    "\n",
    "**SequenceMatcher.ratio:** Return a measure of the sequences’ similarity as a float in the range [0, 1] [link](https://docs.python.org/3/library/difflib.html#difflib.SequenceMatcher.ratio).\n",
    "\n",
    "Where **T** is the total number of elements in both sequences, and **M** is the number of matches, this is **2.0 * M / T**. Note that this is 1.0 if the sequences are identical, and 0.0 if they have nothing in common."
   ]
  },
  {
   "cell_type": "code",
   "execution_count": null,
   "metadata": {},
   "outputs": [],
   "source": [
    "import difflib\n",
    "\n",
    "difflib.SequenceMatcher(a=\"Living my life\", b=\"Leaving my wife\").get_matching_blocks()"
   ]
  },
  {
   "cell_type": "code",
   "execution_count": null,
   "metadata": {},
   "outputs": [],
   "source": [
    "difflib.SequenceMatcher(a=\"Living my life\", b=\"Leaving my wife\").ratio()"
   ]
  },
  {
   "cell_type": "markdown",
   "metadata": {},
   "source": [
    "Кажется, для этой задачи это самое `ratio`, может быть, подходит лучше как расстояния Левенштейна, так и сходства Жаро-Винклера.\n",
    "\n",
    "Вычислим это самое расстояние для всех возможных пар строк."
   ]
  },
  {
   "cell_type": "code",
   "execution_count": null,
   "metadata": {},
   "outputs": [],
   "source": [
    "similarity = np.zeros((len(items), len(items)))\n",
    "\n",
    "for i in tqdm(range(len(items)), \"rows in sim matrix\"):\n",
    "    for j in range(0, i + 1):\n",
    "        similarity[i, j] = difflib.SequenceMatcher(a=items[i], b=items[j]).ratio()\n",
    "        similarity[j, i] = similarity[i, j]        "
   ]
  },
  {
   "cell_type": "code",
   "execution_count": null,
   "metadata": {},
   "outputs": [],
   "source": [
    "# similarity"
   ]
  },
  {
   "cell_type": "markdown",
   "metadata": {},
   "source": [
    "Готовим своеобразный формат для `scipy.cluster`: треугольный кусок матрицы под диагональю, представленный списком"
   ]
  },
  {
   "cell_type": "code",
   "execution_count": null,
   "metadata": {},
   "outputs": [],
   "source": [
    "distances = 1 - similarity\n",
    "distances_prepared = []\n",
    "\n",
    "for i in tqdm(range(distances.shape[0]), \"distances matrix rows\"):\n",
    "    for j in range(distances.shape[0]):\n",
    "        if i < j:\n",
    "            distances_prepared.append(distances[i, j])"
   ]
  },
  {
   "cell_type": "code",
   "execution_count": null,
   "metadata": {},
   "outputs": [],
   "source": [
    "from scipy.cluster.hierarchy import fcluster\n",
    "from scipy.cluster.hierarchy import linkage\n",
    "\n",
    "inside_cluster_dist = 0.4\n",
    "\n",
    "Z = linkage(np.array(distances_prepared), method=\"ward\")\n",
    "result = fcluster(Z, t=inside_cluster_dist, criterion=\"distance\")"
   ]
  },
  {
   "cell_type": "code",
   "execution_count": null,
   "metadata": {},
   "outputs": [],
   "source": [
    "from matplotlib import pyplot as plt\n",
    "from scipy.cluster.hierarchy import dendrogram\n",
    "\n",
    "plt.figure(figsize=(8, 15))\n",
    "dendrogram(Z, orientation='left', labels=items)\n",
    "plt.show()"
   ]
  },
  {
   "cell_type": "markdown",
   "metadata": {},
   "source": [
    "Теперь развернём обратно"
   ]
  },
  {
   "cell_type": "code",
   "execution_count": null,
   "metadata": {},
   "outputs": [],
   "source": [
    "clusters = {i: [] for i in result}\n",
    "\n",
    "for i, idx in enumerate(result):\n",
    "    clusters[idx].append(items[i])"
   ]
  },
  {
   "cell_type": "code",
   "execution_count": null,
   "metadata": {},
   "outputs": [],
   "source": [
    "for cluster in clusters:\n",
    "    print(\"\\nCluster\", cluster)\n",
    "    print(clusters[cluster])"
   ]
  },
  {
   "cell_type": "code",
   "execution_count": null,
   "metadata": {},
   "outputs": [],
   "source": []
  },
  {
   "cell_type": "markdown",
   "metadata": {},
   "source": [
    "---\n",
    "\n",
    "## Жучки-червячки\n",
    "\n",
    "S. Sieranoja and P. Fränti, \"Fast and general density peaks clustering\", Pattern Recognition Letters, 128, 551-558, December 2019. \n",
    "\n",
    "Короткая и довольно-таки свежая статья.\n",
    "\n",
    "Данные, напоминающие \"следы перемещения объектов в 2D\" (= червяки) в каком-то матлабовском формате."
   ]
  },
  {
   "cell_type": "code",
   "execution_count": null,
   "metadata": {},
   "outputs": [],
   "source": [
    "import numpy as np\n",
    "\n",
    "x, y = [], []\n",
    "\n",
    "with open(\"worms/worms_2d.txt\", \"r+\", encoding=\"utf-8\") as rf:\n",
    "    for line in rf:\n",
    "        line = line.strip()\n",
    "        if line:\n",
    "            spl = line.split(\" \")\n",
    "            x.append(float(spl[0]))\n",
    "            y.append(float(spl[1]))\n",
    "\n",
    "x, y = np.array(x), np.array(y)\n",
    "x.shape"
   ]
  },
  {
   "cell_type": "code",
   "execution_count": null,
   "metadata": {},
   "outputs": [],
   "source": [
    "import matplotlib.pyplot as plt\n",
    "plt.style.use('seaborn-whitegrid')\n",
    "plt.xlim(1500, 5500)\n",
    "plt.ylim(2000, 5500)\n",
    "plt.scatter(x, y, s=0.5, alpha=0.1)"
   ]
  },
  {
   "cell_type": "markdown",
   "metadata": {},
   "source": [
    "Вместе с точками генератором поставляется и разметка -- \"истинные червяки\""
   ]
  },
  {
   "cell_type": "code",
   "execution_count": null,
   "metadata": {},
   "outputs": [],
   "source": [
    "labels = []\n",
    "\n",
    "with open(\"worms/worms_2d-gt.pa\", \"r+\", encoding=\"utf-8\") as rf:\n",
    "    for line in rf.readlines()[4:]:\n",
    "        line = line.strip()\n",
    "        if line:\n",
    "            labels.append(int(line))\n",
    "\n",
    "print(\"Labels count:\", len(set(labels)))\n",
    "            \n",
    "labels = np.array(labels)\n",
    "\n",
    "assert x.shape == labels.shape == y.shape"
   ]
  },
  {
   "cell_type": "code",
   "execution_count": null,
   "metadata": {},
   "outputs": [],
   "source": [
    "plt.xlim(1500, 5500)\n",
    "plt.ylim(2000, 5500)\n",
    "plt.scatter(x, y, s=0.5, alpha=0.05, c=labels, cmap='viridis')"
   ]
  },
  {
   "cell_type": "markdown",
   "metadata": {},
   "source": [
    "Похоже, формат поняли правильно. Ну, теперь давайте попробуем этих самых червяков кластеризовать и посмотреть, насколько мы хорошо справляемся."
   ]
  },
  {
   "cell_type": "code",
   "execution_count": null,
   "metadata": {},
   "outputs": [],
   "source": [
    "X = np.hstack([x[:, np.newaxis].astype(np.float64), y[:, np.newaxis].astype(np.float64)])\n",
    "type(X), X, type(X[0, 0])"
   ]
  },
  {
   "cell_type": "code",
   "execution_count": null,
   "metadata": {},
   "outputs": [],
   "source": [
    "from sklearn import cluster\n",
    "\n",
    "k_means = cluster.KMeans(n_clusters=35)\n",
    "k_means.fit(X) "
   ]
  },
  {
   "cell_type": "code",
   "execution_count": null,
   "metadata": {},
   "outputs": [],
   "source": [
    "k_means.labels_.shape"
   ]
  },
  {
   "cell_type": "code",
   "execution_count": null,
   "metadata": {},
   "outputs": [],
   "source": [
    "plt.xlim(1500, 5500)\n",
    "plt.ylim(2000, 5500)\n",
    "plt.scatter(x, y, s=0.5, alpha=0.05, c=k_means.labels_, cmap='viridis')"
   ]
  },
  {
   "cell_type": "markdown",
   "metadata": {},
   "source": [
    "### NB! Очень медленные ребята, придётся проредить данные"
   ]
  },
  {
   "cell_type": "code",
   "execution_count": null,
   "metadata": {},
   "outputs": [],
   "source": [
    "perm = np.random.permutation(X.shape[0])[:int(0.1 * X.shape[0])]\n",
    "\n",
    "X_subsample = X[perm, :]\n",
    "labels_subsample = labels[perm]"
   ]
  },
  {
   "cell_type": "markdown",
   "metadata": {},
   "source": [
    "Всё склеим, посмотрим, чем отличается от KMeans"
   ]
  },
  {
   "cell_type": "code",
   "execution_count": null,
   "metadata": {},
   "outputs": [],
   "source": [
    "agg = cluster.AgglomerativeClustering(n_clusters=35, linkage=\"complete\")\n",
    "agg.fit(X_subsample) \n",
    "agg.labels_"
   ]
  },
  {
   "cell_type": "code",
   "execution_count": null,
   "metadata": {},
   "outputs": [],
   "source": [
    "plt.xlim(2000, 5000)\n",
    "plt.ylim(2500, 5000)\n",
    "plt.scatter(X_subsample[:, 0], X_subsample[:, 1], s=2, alpha=0.2, c=agg.labels_, cmap='viridis')"
   ]
  },
  {
   "cell_type": "markdown",
   "metadata": {},
   "source": [
    "Самый знаменитый плотностный метод"
   ]
  },
  {
   "cell_type": "code",
   "execution_count": null,
   "metadata": {},
   "outputs": [],
   "source": [
    "dbscan = cluster.DBSCAN(eps=10000, \n",
    "                        metric='euclidean',\n",
    "                        algorithm='auto',\n",
    "                        n_jobs=3)\n",
    "dbscan.fit(X_subsample) \n",
    "dbscan.labels_"
   ]
  },
  {
   "cell_type": "code",
   "execution_count": null,
   "metadata": {},
   "outputs": [],
   "source": [
    "plt.xlim(1500, 5500)\n",
    "plt.ylim(2000, 5500)\n",
    "plt.scatter(X_subsample[:, 0], X_subsample[:, 1], s=2, alpha=0.2, c=dbscan.labels_, cmap='viridis')"
   ]
  },
  {
   "cell_type": "markdown",
   "metadata": {},
   "source": [
    "Это тоже хороший плотностной метод, иерархический дбскан"
   ]
  },
  {
   "cell_type": "code",
   "execution_count": null,
   "metadata": {},
   "outputs": [],
   "source": [
    "optics = cluster.OPTICS(n_jobs=2)\n",
    "optics.fit(X_subsample)"
   ]
  },
  {
   "cell_type": "code",
   "execution_count": null,
   "metadata": {},
   "outputs": [],
   "source": [
    "plt.xlim(1500, 5500)\n",
    "plt.ylim(2000, 5500)\n",
    "plt.scatter(X_subsample[:, 0], X_subsample[:, 1], s=2, alpha=0.2, c=optics.labels_, cmap='viridis')"
   ]
  },
  {
   "cell_type": "markdown",
   "metadata": {},
   "source": [
    "### Кто из этих алгоритмов молодец?"
   ]
  },
  {
   "cell_type": "code",
   "execution_count": null,
   "metadata": {},
   "outputs": [],
   "source": [
    "from sklearn import metrics"
   ]
  },
  {
   "cell_type": "markdown",
   "metadata": {},
   "source": [
    "Гомогенность проверяет, нулевая ли энтропия распределения истинных кластеров (\"классов\", **C**) в каждом из выделенных алгоритмом кластеров (**K**).\n",
    "\n",
    "Хочется, чтобы условная энтропия кластеризации для заданных классов была минимальна. При этом она зависит от размера датасета и числа.\n",
    "\n",
    "    Note that H(C|K) is maximal (and equals H(C)) when the clustering provides no new information -- the class distribution within each cluster is equal to the overall class distribution\n",
    "    \n",
    "То есть вычисляем условную энтропию, делим её на энтропию распределения размера классов, и хотим, чтобы эта величина была поменьше.\n",
    "\n",
    "https://www.aclweb.org/anthology/D07-1043.pdf\n",
    "\n",
    "$$h = 1 - \\frac{H(C|K)}{H(C)}$$\n",
    "\n",
    "$$H(C|K) = - \\sum_{k=1}^{|K|}\\sum_{c=1}^{|C|} \\frac{a_{ck}}{N}\\log \\frac{a_{ck}}{\\sum_c^{|C|} a_{ck}}$$\n",
    "\n",
    "В свою очередь, H(C) -- это энтропия доль классов (C) как распределения, то есть\n",
    "\n",
    "$$H(C) = - \\sum_{c=1}^{|C|} \\frac{\\sum_{k=1}^{|K|} a_{ck}}{N} \\log \\frac{\\sum_{k=1}^{|K|} a_{ck}}{N}$$"
   ]
  },
  {
   "cell_type": "code",
   "execution_count": null,
   "metadata": {},
   "outputs": [],
   "source": [
    "# first TRUE, then PRED -- these guys are asymmetric!\n",
    "metrics.homogeneity_score([0, 0, 0, 1, 1], [0, 0, 0, 1, 1])"
   ]
  },
  {
   "cell_type": "markdown",
   "metadata": {},
   "source": [
    "Какую гомогенность даст кластеризация, которая выделит каждый элемент как отдельный кластер?"
   ]
  },
  {
   "cell_type": "code",
   "execution_count": null,
   "metadata": {},
   "outputs": [],
   "source": [
    "metrics.homogeneity_score([0, 0, 0, 1, 1], [1, 2, 3, 4, 5])"
   ]
  },
  {
   "cell_type": "markdown",
   "metadata": {},
   "source": [
    "А если у нас всё так и есть, а мы выделили только один кластер?"
   ]
  },
  {
   "cell_type": "code",
   "execution_count": null,
   "metadata": {},
   "outputs": [],
   "source": [
    "metrics.homogeneity_score([1, 2, 3, 4, 5], [0, 0, 0, 0, 0])"
   ]
  },
  {
   "cell_type": "markdown",
   "metadata": {},
   "source": [
    "**Разберём смешанный случай**"
   ]
  },
  {
   "cell_type": "code",
   "execution_count": null,
   "metadata": {},
   "outputs": [],
   "source": [
    "metrics.homogeneity_score([0, 0, 0, 1, 2], [0, 0, 0, 1, 1])"
   ]
  },
  {
   "cell_type": "markdown",
   "metadata": {},
   "source": [
    "Смешанный случай\n",
    "\n",
    "- H(C) = 0.6 log(0.6) + 0.2 log (0.2) + 0.2 log (0.2)\n",
    "\n",
    "По всем кластерам суммируем\n",
    "\n",
    "- H(C|K) = ???"
   ]
  },
  {
   "cell_type": "code",
   "execution_count": null,
   "metadata": {},
   "outputs": [],
   "source": [
    "# from sklearn.metrics.cluster import contingency_matrix, mutual_info_score, entropy\n",
    "\n",
    "# cm = contingency_matrix([0, 0, 0, 1, 2], [0, 0, 0, 1, 1])\n",
    "# mi = mutual_info_score(None, None, contingency=cm) \n",
    "# mi / entropy([0, 0, 0, 1, 2])"
   ]
  },
  {
   "cell_type": "code",
   "execution_count": null,
   "metadata": {},
   "outputs": [],
   "source": [
    "# import numpy as np\n",
    "\n",
    "# hc = - (0.6 * np.log(0.6) + 0.2 * np.log(0.2) + 0.2 * np.log(0.2))\n",
    "# hck = - (0.6 * np.log(3/3) + # k = 0\n",
    "#          0.2 * np.log(1/2) + 0.2 * np.log(1/2)) # k = 1\n",
    "\n",
    "# 1 - hck / hc"
   ]
  },
  {
   "cell_type": "markdown",
   "metadata": {},
   "source": [
    "Посмотрим на оценки качества наших кластеризаторов"
   ]
  },
  {
   "cell_type": "code",
   "execution_count": null,
   "metadata": {},
   "outputs": [],
   "source": [
    "import pandas as pd\n",
    "\n",
    "data = {\"homogeneity_score\": [], \"completeness_score\": [], \"v_measure_score\" : [], \"method\": []}\n",
    "\n",
    "for model in [k_means, agg, dbscan, optics]:\n",
    "    \n",
    "    \n",
    "    if len(model.labels_) < 100000:\n",
    "        labels_true = labels[perm]\n",
    "    else:\n",
    "        labels_true = labels\n",
    "    \n",
    "    data[\"method\"].append(str(model).split(\"(\")[0])    \n",
    "    data[\"v_measure_score\"].append(metrics.v_measure_score(labels_true, model.labels_))\n",
    "    data[\"homogeneity_score\"].append(metrics.homogeneity_score(labels_true, model.labels_))\n",
    "    data[\"completeness_score\"].append(metrics.completeness_score(labels_true, model.labels_))\n",
    "\n",
    "pd.DataFrame(data)"
   ]
  },
  {
   "cell_type": "markdown",
   "metadata": {},
   "source": [
    "### TODO: к размышлению и экспериментам; потренируйтесь на червячках\n",
    "    \n",
    "- исследуйте множество возможных гиперпараметров для рассмотренных алгоритмов, может, получится значительно улучшить?\n",
    "- корректно ли здесь запускать gridsearch с метками?\n",
    "- попробуйте написать элегантный и легко дополняемый новыми алгоритмами и параметрами пайплайн, который будет искать лучшие параметры -- но тут сложно не переобучиться\n"
   ]
  },
  {
   "cell_type": "code",
   "execution_count": null,
   "metadata": {},
   "outputs": [],
   "source": []
  }
 ],
 "metadata": {
  "kernelspec": {
   "display_name": "Python 3",
   "language": "python",
   "name": "python3"
  },
  "language_info": {
   "codemirror_mode": {
    "name": "ipython",
    "version": 3
   },
   "file_extension": ".py",
   "mimetype": "text/x-python",
   "name": "python",
   "nbconvert_exporter": "python",
   "pygments_lexer": "ipython3",
   "version": "3.8.3"
  }
 },
 "nbformat": 4,
 "nbformat_minor": 1
}
